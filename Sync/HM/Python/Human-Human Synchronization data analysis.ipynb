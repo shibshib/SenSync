{
 "cells": [
  {
   "cell_type": "markdown",
   "metadata": {
    "deletable": true,
    "editable": true
   },
   "source": [
    "# Accelerometer data report (Hand shake)"
   ]
  },
  {
   "cell_type": "markdown",
   "metadata": {
    "deletable": true,
    "editable": true
   },
   "source": [
    "## Read CSV files"
   ]
  },
  {
   "cell_type": "code",
   "execution_count": 1,
   "metadata": {
    "collapsed": false,
    "deletable": true,
    "editable": true
   },
   "outputs": [
    {
     "ename": "FileNotFoundError",
     "evalue": "File b'Data/Crystal_accel_COM9_4MHz_2.csv' does not exist",
     "output_type": "error",
     "traceback": [
      "\u001b[0;31m---------------------------------------------------------------------------\u001b[0m",
      "\u001b[0;31mFileNotFoundError\u001b[0m                         Traceback (most recent call last)",
      "\u001b[0;32m<ipython-input-1-f53be310f801>\u001b[0m in \u001b[0;36m<module>\u001b[0;34m()\u001b[0m\n\u001b[1;32m      3\u001b[0m \u001b[1;31m## read crystal- and dco- timestamped data\u001b[0m\u001b[1;33m\u001b[0m\u001b[1;33m\u001b[0m\u001b[0m\n\u001b[1;32m      4\u001b[0m \u001b[0mcolumns\u001b[0m \u001b[1;33m=\u001b[0m \u001b[1;33m[\u001b[0m\u001b[1;34m'Timestamp'\u001b[0m\u001b[1;33m,\u001b[0m \u001b[1;34m'X'\u001b[0m\u001b[1;33m,\u001b[0m \u001b[1;34m'Y'\u001b[0m\u001b[1;33m,\u001b[0m \u001b[1;34m'Z'\u001b[0m\u001b[1;33m]\u001b[0m\u001b[1;33m;\u001b[0m\u001b[1;33m\u001b[0m\u001b[0m\n\u001b[0;32m----> 5\u001b[0;31m \u001b[0mcrystal_df\u001b[0m \u001b[1;33m=\u001b[0m \u001b[0mpd\u001b[0m\u001b[1;33m.\u001b[0m\u001b[0mread_csv\u001b[0m\u001b[1;33m(\u001b[0m\u001b[1;34m'Data/Crystal_accel_COM9_4MHz_2.csv'\u001b[0m\u001b[1;33m,\u001b[0m \u001b[0mnames\u001b[0m\u001b[1;33m=\u001b[0m\u001b[0mcolumns\u001b[0m\u001b[1;33m)\u001b[0m\u001b[1;33m;\u001b[0m\u001b[1;33m\u001b[0m\u001b[0m\n\u001b[0m\u001b[1;32m      6\u001b[0m \u001b[0mcrystal\u001b[0m \u001b[1;33m=\u001b[0m \u001b[0mcrystal_df\u001b[0m\u001b[1;33m.\u001b[0m\u001b[0mas_matrix\u001b[0m\u001b[1;33m(\u001b[0m\u001b[1;33m)\u001b[0m\u001b[1;33m;\u001b[0m\u001b[1;33m\u001b[0m\u001b[0m\n\u001b[1;32m      7\u001b[0m \u001b[1;33m\u001b[0m\u001b[0m\n",
      "\u001b[0;32mC:\\Users\\Ala\\Anaconda3\\lib\\site-packages\\pandas\\io\\parsers.py\u001b[0m in \u001b[0;36mparser_f\u001b[0;34m(filepath_or_buffer, sep, delimiter, header, names, index_col, usecols, squeeze, prefix, mangle_dupe_cols, dtype, engine, converters, true_values, false_values, skipinitialspace, skiprows, nrows, na_values, keep_default_na, na_filter, verbose, skip_blank_lines, parse_dates, infer_datetime_format, keep_date_col, date_parser, dayfirst, iterator, chunksize, compression, thousands, decimal, lineterminator, quotechar, quoting, escapechar, comment, encoding, dialect, tupleize_cols, error_bad_lines, warn_bad_lines, skipfooter, skip_footer, doublequote, delim_whitespace, as_recarray, compact_ints, use_unsigned, low_memory, buffer_lines, memory_map, float_precision)\u001b[0m\n\u001b[1;32m    644\u001b[0m                     skip_blank_lines=skip_blank_lines)\n\u001b[1;32m    645\u001b[0m \u001b[1;33m\u001b[0m\u001b[0m\n\u001b[0;32m--> 646\u001b[0;31m         \u001b[1;32mreturn\u001b[0m \u001b[0m_read\u001b[0m\u001b[1;33m(\u001b[0m\u001b[0mfilepath_or_buffer\u001b[0m\u001b[1;33m,\u001b[0m \u001b[0mkwds\u001b[0m\u001b[1;33m)\u001b[0m\u001b[1;33m\u001b[0m\u001b[0m\n\u001b[0m\u001b[1;32m    647\u001b[0m \u001b[1;33m\u001b[0m\u001b[0m\n\u001b[1;32m    648\u001b[0m     \u001b[0mparser_f\u001b[0m\u001b[1;33m.\u001b[0m\u001b[0m__name__\u001b[0m \u001b[1;33m=\u001b[0m \u001b[0mname\u001b[0m\u001b[1;33m\u001b[0m\u001b[0m\n",
      "\u001b[0;32mC:\\Users\\Ala\\Anaconda3\\lib\\site-packages\\pandas\\io\\parsers.py\u001b[0m in \u001b[0;36m_read\u001b[0;34m(filepath_or_buffer, kwds)\u001b[0m\n\u001b[1;32m    387\u001b[0m \u001b[1;33m\u001b[0m\u001b[0m\n\u001b[1;32m    388\u001b[0m     \u001b[1;31m# Create the parser.\u001b[0m\u001b[1;33m\u001b[0m\u001b[1;33m\u001b[0m\u001b[0m\n\u001b[0;32m--> 389\u001b[0;31m     \u001b[0mparser\u001b[0m \u001b[1;33m=\u001b[0m \u001b[0mTextFileReader\u001b[0m\u001b[1;33m(\u001b[0m\u001b[0mfilepath_or_buffer\u001b[0m\u001b[1;33m,\u001b[0m \u001b[1;33m**\u001b[0m\u001b[0mkwds\u001b[0m\u001b[1;33m)\u001b[0m\u001b[1;33m\u001b[0m\u001b[0m\n\u001b[0m\u001b[1;32m    390\u001b[0m \u001b[1;33m\u001b[0m\u001b[0m\n\u001b[1;32m    391\u001b[0m     \u001b[1;32mif\u001b[0m \u001b[1;33m(\u001b[0m\u001b[0mnrows\u001b[0m \u001b[1;32mis\u001b[0m \u001b[1;32mnot\u001b[0m \u001b[1;32mNone\u001b[0m\u001b[1;33m)\u001b[0m \u001b[1;32mand\u001b[0m \u001b[1;33m(\u001b[0m\u001b[0mchunksize\u001b[0m \u001b[1;32mis\u001b[0m \u001b[1;32mnot\u001b[0m \u001b[1;32mNone\u001b[0m\u001b[1;33m)\u001b[0m\u001b[1;33m:\u001b[0m\u001b[1;33m\u001b[0m\u001b[0m\n",
      "\u001b[0;32mC:\\Users\\Ala\\Anaconda3\\lib\\site-packages\\pandas\\io\\parsers.py\u001b[0m in \u001b[0;36m__init__\u001b[0;34m(self, f, engine, **kwds)\u001b[0m\n\u001b[1;32m    728\u001b[0m             \u001b[0mself\u001b[0m\u001b[1;33m.\u001b[0m\u001b[0moptions\u001b[0m\u001b[1;33m[\u001b[0m\u001b[1;34m'has_index_names'\u001b[0m\u001b[1;33m]\u001b[0m \u001b[1;33m=\u001b[0m \u001b[0mkwds\u001b[0m\u001b[1;33m[\u001b[0m\u001b[1;34m'has_index_names'\u001b[0m\u001b[1;33m]\u001b[0m\u001b[1;33m\u001b[0m\u001b[0m\n\u001b[1;32m    729\u001b[0m \u001b[1;33m\u001b[0m\u001b[0m\n\u001b[0;32m--> 730\u001b[0;31m         \u001b[0mself\u001b[0m\u001b[1;33m.\u001b[0m\u001b[0m_make_engine\u001b[0m\u001b[1;33m(\u001b[0m\u001b[0mself\u001b[0m\u001b[1;33m.\u001b[0m\u001b[0mengine\u001b[0m\u001b[1;33m)\u001b[0m\u001b[1;33m\u001b[0m\u001b[0m\n\u001b[0m\u001b[1;32m    731\u001b[0m \u001b[1;33m\u001b[0m\u001b[0m\n\u001b[1;32m    732\u001b[0m     \u001b[1;32mdef\u001b[0m \u001b[0mclose\u001b[0m\u001b[1;33m(\u001b[0m\u001b[0mself\u001b[0m\u001b[1;33m)\u001b[0m\u001b[1;33m:\u001b[0m\u001b[1;33m\u001b[0m\u001b[0m\n",
      "\u001b[0;32mC:\\Users\\Ala\\Anaconda3\\lib\\site-packages\\pandas\\io\\parsers.py\u001b[0m in \u001b[0;36m_make_engine\u001b[0;34m(self, engine)\u001b[0m\n\u001b[1;32m    921\u001b[0m     \u001b[1;32mdef\u001b[0m \u001b[0m_make_engine\u001b[0m\u001b[1;33m(\u001b[0m\u001b[0mself\u001b[0m\u001b[1;33m,\u001b[0m \u001b[0mengine\u001b[0m\u001b[1;33m=\u001b[0m\u001b[1;34m'c'\u001b[0m\u001b[1;33m)\u001b[0m\u001b[1;33m:\u001b[0m\u001b[1;33m\u001b[0m\u001b[0m\n\u001b[1;32m    922\u001b[0m         \u001b[1;32mif\u001b[0m \u001b[0mengine\u001b[0m \u001b[1;33m==\u001b[0m \u001b[1;34m'c'\u001b[0m\u001b[1;33m:\u001b[0m\u001b[1;33m\u001b[0m\u001b[0m\n\u001b[0;32m--> 923\u001b[0;31m             \u001b[0mself\u001b[0m\u001b[1;33m.\u001b[0m\u001b[0m_engine\u001b[0m \u001b[1;33m=\u001b[0m \u001b[0mCParserWrapper\u001b[0m\u001b[1;33m(\u001b[0m\u001b[0mself\u001b[0m\u001b[1;33m.\u001b[0m\u001b[0mf\u001b[0m\u001b[1;33m,\u001b[0m \u001b[1;33m**\u001b[0m\u001b[0mself\u001b[0m\u001b[1;33m.\u001b[0m\u001b[0moptions\u001b[0m\u001b[1;33m)\u001b[0m\u001b[1;33m\u001b[0m\u001b[0m\n\u001b[0m\u001b[1;32m    924\u001b[0m         \u001b[1;32melse\u001b[0m\u001b[1;33m:\u001b[0m\u001b[1;33m\u001b[0m\u001b[0m\n\u001b[1;32m    925\u001b[0m             \u001b[1;32mif\u001b[0m \u001b[0mengine\u001b[0m \u001b[1;33m==\u001b[0m \u001b[1;34m'python'\u001b[0m\u001b[1;33m:\u001b[0m\u001b[1;33m\u001b[0m\u001b[0m\n",
      "\u001b[0;32mC:\\Users\\Ala\\Anaconda3\\lib\\site-packages\\pandas\\io\\parsers.py\u001b[0m in \u001b[0;36m__init__\u001b[0;34m(self, src, **kwds)\u001b[0m\n\u001b[1;32m   1388\u001b[0m         \u001b[0mkwds\u001b[0m\u001b[1;33m[\u001b[0m\u001b[1;34m'allow_leading_cols'\u001b[0m\u001b[1;33m]\u001b[0m \u001b[1;33m=\u001b[0m \u001b[0mself\u001b[0m\u001b[1;33m.\u001b[0m\u001b[0mindex_col\u001b[0m \u001b[1;32mis\u001b[0m \u001b[1;32mnot\u001b[0m \u001b[1;32mFalse\u001b[0m\u001b[1;33m\u001b[0m\u001b[0m\n\u001b[1;32m   1389\u001b[0m \u001b[1;33m\u001b[0m\u001b[0m\n\u001b[0;32m-> 1390\u001b[0;31m         \u001b[0mself\u001b[0m\u001b[1;33m.\u001b[0m\u001b[0m_reader\u001b[0m \u001b[1;33m=\u001b[0m \u001b[0m_parser\u001b[0m\u001b[1;33m.\u001b[0m\u001b[0mTextReader\u001b[0m\u001b[1;33m(\u001b[0m\u001b[0msrc\u001b[0m\u001b[1;33m,\u001b[0m \u001b[1;33m**\u001b[0m\u001b[0mkwds\u001b[0m\u001b[1;33m)\u001b[0m\u001b[1;33m\u001b[0m\u001b[0m\n\u001b[0m\u001b[1;32m   1391\u001b[0m \u001b[1;33m\u001b[0m\u001b[0m\n\u001b[1;32m   1392\u001b[0m         \u001b[1;31m# XXX\u001b[0m\u001b[1;33m\u001b[0m\u001b[1;33m\u001b[0m\u001b[0m\n",
      "\u001b[0;32mpandas\\parser.pyx\u001b[0m in \u001b[0;36mpandas.parser.TextReader.__cinit__ (pandas\\parser.c:4184)\u001b[0;34m()\u001b[0m\n",
      "\u001b[0;32mpandas\\parser.pyx\u001b[0m in \u001b[0;36mpandas.parser.TextReader._setup_parser_source (pandas\\parser.c:8449)\u001b[0;34m()\u001b[0m\n",
      "\u001b[0;31mFileNotFoundError\u001b[0m: File b'Data/Crystal_accel_COM9_4MHz_2.csv' does not exist"
     ]
    }
   ],
   "source": [
    "import pandas as pd\n",
    "\n",
    "## read crystal- and dco- timestamped data\n",
    "columns = ['Timestamp', 'X', 'Y', 'Z'];\n",
    "crystal_df = pd.read_csv('Data/Crystal_accel_COM9_4MHz_2.csv', names=columns);\n",
    "crystal = crystal_df.as_matrix();\n",
    "\n",
    "dco_df = pd.read_csv('Data/DCO_accel_COM6_2MHz_2.csv', names=columns);\n",
    "dco = dco_df.as_matrix();\n"
   ]
  },
  {
   "cell_type": "markdown",
   "metadata": {
    "deletable": true,
    "editable": true
   },
   "source": [
    "## Compensate different sizes (due to clock speeds)"
   ]
  },
  {
   "cell_type": "code",
   "execution_count": null,
   "metadata": {
    "collapsed": false,
    "deletable": true,
    "editable": true
   },
   "outputs": [],
   "source": [
    "# crystal file likely to be longer than DCO file, due to different clock frequencies\n",
    "# (Crystal: 4MHz, DCO: 2MHz)\n",
    "diff = abs(len(crystal) - len(dco));\n",
    "\n",
    "if(len(crystal) > len(dco)):\n",
    "    #crystal = crystal[diff:-1];\n",
    "    crystal = crystal[0:-diff];\n",
    "else:\n",
    "    #dco = dco[diff:-1];\n",
    "    dco = dco[0:-diff];"
   ]
  },
  {
   "cell_type": "markdown",
   "metadata": {
    "collapsed": true,
    "deletable": true,
    "editable": true
   },
   "source": [
    "## Compute magnitude of accelerometers"
   ]
  },
  {
   "cell_type": "code",
   "execution_count": null,
   "metadata": {
    "collapsed": false,
    "deletable": true,
    "editable": true
   },
   "outputs": [],
   "source": [
    "import numpy as np\n",
    "\n",
    "crystal_mag = np.square(crystal[:,1]) + np.square(crystal[:,2]) + np.square(crystal[:,3]);\n",
    "crystal_mag = np.sqrt(crystal_mag);\n",
    "\n",
    "dco_mag = np.square(dco[:,1]) + np.square(dco[:,2]) + np.square(dco[:,3]);\n",
    "dco_mag = np.sqrt(dco_mag);\n",
    "\n",
    "# Compute elapsed times\n",
    "ctime = crystal[:,0];\n",
    "ctime = ctime - ctime[0];\n",
    "\n",
    "dtime = dco[:,0];\n",
    "dtime = dtime - dtime[0];"
   ]
  },
  {
   "cell_type": "markdown",
   "metadata": {
    "deletable": true,
    "editable": true
   },
   "source": [
    "## Plot the magnitudes together"
   ]
  },
  {
   "cell_type": "code",
   "execution_count": null,
   "metadata": {
    "collapsed": false,
    "deletable": true,
    "editable": true,
    "scrolled": true
   },
   "outputs": [],
   "source": [
    "import matplotlib\n",
    "import matplotlib.pyplot as plt\n",
    "import mpld3\n",
    "mpld3.enable_notebook();\n",
    "\n",
    "linepos = 19000000\n",
    "\n",
    "# Set default plot size\n",
    "matplotlib.rcParams['figure.figsize'] = (10.0, 8.0)\n",
    "\n",
    "# Plot both accelerometers\n",
    "f, axes = plt.subplots(2);\n",
    "        \n",
    "ax1 = axes[0];\n",
    "ax2 = axes[1];\n",
    "\n",
    "#plt.style.use('classic')\n",
    "\n",
    "ax1.plot(ctime, crystal_mag);\n",
    "ax1.grid();\n",
    "ax1.set_xlim([170000000, 250000000]);\n",
    "#ax1.vlines([linepos], 0, 15, colors='k');\n",
    "ax1.set_title('COM9 vs COM6 Accelerometer');\n",
    "\n",
    "ax2.plot(dtime, dco_mag,color='r');\n",
    "ax2.set_xlim([170000000, 250000000]);\n",
    "#ax2.vlines([linepos], 0, 15, colors='k');\n",
    "ax2.grid();\n",
    "\n",
    "plt.show();"
   ]
  },
  {
   "cell_type": "markdown",
   "metadata": {
    "deletable": true,
    "editable": true
   },
   "source": [
    "## Train Classifier for Handshake recognition. "
   ]
  },
  {
   "cell_type": "code",
   "execution_count": null,
   "metadata": {
    "collapsed": false,
    "deletable": true,
    "editable": true,
    "scrolled": true
   },
   "outputs": [],
   "source": [
    "# Perform some classification to find the area with the handshaking activity\n",
    "# Once area has been located on both COM9 and COM6, it becomes possible to compute offset and skew\n",
    "# This is just a demo, with a classifier constructed from the reference node (crystal) and\n",
    "# applied to the synchronizing node (DCO). \n",
    "\n",
    "import AccelerometerFeatures as af\n",
    "from sklearn import svm\n",
    "from sklearn.model_selection import cross_val_score\n",
    "\n",
    "# Create feature extraction object\n",
    "ae = af.AccelerometerFeatures();\n",
    "    \n",
    "# Time is in microseconds, should convert to milliseconds\n",
    "window_size = 70;     # in millis, with 100Hz each window should have ~9-10 samples\n",
    "window_overlap = 10;\n",
    "\n",
    "# extract crystal accelerometer features\n",
    "X, y, w = ae.extract_features_from_files(\"crystal\", window_size, window_overlap);\n",
    "\n",
    "C = 1.0;  # SVM regularization parameter\n",
    "\n",
    "# Fit SVC onto crystal data\n",
    "svc = svm.SVC(kernel='poly', C=C);\n",
    "svc.fit(X, y)\n",
    "\n",
    "# To predict, use the following lines. (These are used in the next step anyway)\n",
    "X2, y2, w2 = ae.extract_features(dco, window_size, window_overlap);\n",
    "#X3, y3, w3 = ae.extract_features(crystal, window_size, window_overlap);\n",
    "\n",
    "# Compute cross validation accuracy score\n",
    "cross_val_score(svc, X2, y2, scoring='accuracy')\n",
    "#cross_val_score(svc, X3, y3, scoring='accuracy')"
   ]
  },
  {
   "cell_type": "markdown",
   "metadata": {
    "deletable": true,
    "editable": true
   },
   "source": [
    "## Reconstruct Events Onset/Offset "
   ]
  },
  {
   "cell_type": "code",
   "execution_count": null,
   "metadata": {
    "collapsed": false,
    "deletable": true,
    "editable": true,
    "scrolled": true
   },
   "outputs": [],
   "source": [
    "# Process to reconstruct the signal and detect the areas with \n",
    "# handshake activity in it.\n",
    "import EventAnalyzer as ea\n",
    "\n",
    "# Instantiate event analyzer\n",
    "analyzer = ea.EventAnalyzer();\n",
    "\n",
    "# Plot both accelerometers events for display purposes\n",
    "f, axes = plt.subplots(2);\n",
    "\n",
    "#f.text(5, 8, \"Magnitude\", va='center', rotation='vertical')\n",
    "\n",
    "ax1 = axes[0];\n",
    "ax2 = axes[1];\n",
    "\n",
    "crystal_events = analyzer.find_events(crystal, window_size, window_overlap, svc, ax1);\n",
    "ax1.set_title('Crystal vs DCO');\n",
    "ax1.grid();\n",
    "ax1.set_xlim([170000, 250000]);\n",
    "#ax1.legend(handles=[e,ne], loc=\"upper left\")\n",
    "\n",
    "dco_events = analyzer.find_events(dco, window_size, window_overlap, svc, ax2);\n",
    "ax2.set_xlim([170000, 250000]);\n",
    "ax2.grid();\n",
    "#ax2.legend(handles=[e,ne], loc=\"upper left\")\n",
    "plt.show()\n",
    "\n",
    "# Retrieve all events\n",
    "all_crystal_events = analyzer.retrieve_all_events(\"crystal\", window_size, window_overlap, svc);\n",
    "all_dco_events = analyzer.retrieve_all_events(\"dco\", window_size, window_overlap, svc);"
   ]
  },
  {
   "cell_type": "markdown",
   "metadata": {
    "collapsed": true,
    "deletable": true,
    "editable": true
   },
   "source": [
    "## Compute X-Correlation between COM9 and COM6 accelerometers"
   ]
  },
  {
   "cell_type": "code",
   "execution_count": null,
   "metadata": {
    "collapsed": false,
    "deletable": true,
    "editable": true
   },
   "outputs": [],
   "source": [
    "import scipy as sp\n",
    "from scipy.signal import correlate\n",
    "\n",
    "# delta time array to match xcorr\n",
    "nsamples = len(crystal_mag);\n",
    "# Sampling rate\n",
    "SRATE = 100;\n",
    "# regularize datasets by subtracting mean and dividing by s.d.\n",
    "crystal_mag -= crystal_mag.mean();\n",
    "crystal_mag /= crystal_mag.std();\n",
    "\n",
    "dco_mag -= dco_mag.mean();\n",
    "dco_mag /= dco_mag.std();\n",
    "\n",
    "# Find X-Correlation\n",
    "xcorr = correlate(crystal_mag, dco_mag);\n",
    "\n",
    "# delta time array to match xcorr\n",
    "dt = np.arange(1-nsamples, nsamples);\n",
    "recovered_sample_shift = dt[xcorr.argmax()];\n",
    "offset = recovered_sample_shift * SRATE;\n",
    "\n",
    "print (\"Recovered offset: \", recovered_sample_shift, \" samples, or \" , offset, \" microseconds for 100Hz sample rate\");"
   ]
  },
  {
   "cell_type": "markdown",
   "metadata": {
    "deletable": true,
    "editable": true
   },
   "source": [
    "## Compute event onsets "
   ]
  },
  {
   "cell_type": "markdown",
   "metadata": {
    "deletable": true,
    "editable": true,
    "raw_mimetype": "text/latex"
   },
   "source": [
    "The Least Squares Estimator (LSE) $\\hat{\\beta}$ is that value of $b$ that minimizes\n",
    "\n",
    "\\begin{equation*}\n",
    "\\sum^{n}_{i=1} (y_i - f_b(x_i))^2\n",
    "\\end{equation*}\n",
    "\n",
    "We will now cycle through the events we have found in Section 1.6 and mark all the event onsets for the DCO (node $j$, to be synchronized) and the crystal (node $i$, reference node)."
   ]
  },
  {
   "cell_type": "code",
   "execution_count": null,
   "metadata": {
    "collapsed": false,
    "deletable": true,
    "editable": true
   },
   "outputs": [],
   "source": [
    "# Cycle through events found in Section 1.6 and find all event onsets for DCO and Crystal.\n",
    "import scipy.optimize as optimization\n",
    "from sklearn import linear_model\n",
    "\n",
    "# Chose a model that will create bimodality.\n",
    "def func(x, a, b):\n",
    "    return a + b*b*x  # Term b*b will create bimodality.\n",
    "\n",
    "\n",
    "crystal_start_times = [];\n",
    "for c in all_crystal_events:\n",
    "    crystal_start_times.append([crystal[c[0]][0]]);\n",
    "\n",
    "dco_start_times = [];\n",
    "for d in all_dco_events:\n",
    "    dco_start_times.append(dco[d[0]][0] - offset)\n",
    "    \n",
    "# Split into training and test data\n",
    "X = crystal_start_times\n",
    "Y = dco_start_times\n",
    "\n",
    "# Need MORE test sets\n",
    "length = 5;\n",
    "\n",
    "x_train = X[:length];\n",
    "x_test = X[length:];\n",
    "\n",
    "\n",
    "y_train = Y[:length];\n",
    "y_test = Y[length:];\n",
    "\n",
    "\n",
    "# Create linear regression object\n",
    "regr = linear_model.LinearRegression()\n",
    "\n",
    "# Train the model using the training sets\n",
    "regr.fit(x_train, y_train);\n",
    "\n",
    "skew = regr.coef_;\n",
    "\n",
    "# The mean squared error\n",
    "#print(\"Mean squared error: %.2f microseconds\"\n",
    "#      % np.mean((regr.predict(x_test) - y_test) ** 2))\n",
    "\n",
    "# Explained variance score: 1 is perfect prediction\n",
    "print('Variance score: %.2f' % regr.score(x_test, y_test) , '\\n where 1.00 indicates perfect prediction')\n",
    "\n",
    "# Plot outputs\n",
    "plt.plot(x_test, regr.predict(x_test), color='blue',\n",
    "         linewidth=2)\n",
    "\n",
    "plt.scatter(x_test, y_test,  color='black')\n",
    "\n",
    "frame = plt.gca()\n",
    "\n",
    "plt.grid(True);\n",
    "\n",
    "frame.xaxis.set_major_formatter(plt.NullFormatter())\n",
    "frame.yaxis.set_major_formatter(plt.NullFormatter())\n",
    "\n",
    "plt.xlabel(\"Node i event start time\")\n",
    "plt.ylabel(\"Node j event start time\")\n",
    "\n",
    "print (\"Offset detected: \", abs(offset), \" microseconds\")\n",
    "print (\"Skew detected: \", skew[0])\n",
    "\n",
    "plt.show()"
   ]
  },
  {
   "cell_type": "markdown",
   "metadata": {
    "collapsed": true,
    "deletable": true,
    "editable": true
   },
   "source": [
    "## Plot Drift Improvement Results"
   ]
  },
  {
   "cell_type": "code",
   "execution_count": null,
   "metadata": {
    "collapsed": false,
    "deletable": true,
    "editable": true
   },
   "outputs": [],
   "source": [
    "import seaborn as sns\n",
    "sns.set(style=\"whitegrid\")\n",
    "\n",
    "cctime = ctime[:len(ctime) - 330];\n",
    "ddtime = dtime[:len(dtime) - 330];\n",
    "samples = np.linspace(0, len(cctime), num=len(cctime))\n",
    "\n",
    "# Plot drift \n",
    "drift = abs(cctime - ddtime);\n",
    "\n",
    "# Apply the estimated skew and offset\n",
    "cctime = (cctime * skew) + offset;\n",
    "\n",
    "adjusted_drift = abs(cctime - ddtime);\n",
    "\n",
    "ax1 = axes[0];\n",
    "ax2 = axes[1];\n",
    "\n",
    "xp = np.linspace(0, len(adjusted_drift), 100);\n",
    "\n",
    "deg = 5;\n",
    "z1 = np.poly1d(np.polyfit(samples, drift, deg))\n",
    "z2 = np.poly1d(np.polyfit(samples, adjusted_drift, deg));\n",
    "\n",
    "plt.plot(xp, z1(xp), 'r-', label=\"Raw Drift\");\n",
    "plt.plot(xp, z2(xp), 'b-', label=\"Our Method\");\n",
    "\n",
    "#f, axes = plt.subplots(2);\n",
    "#ax1.plot(xp, z1(xp), 'r-', label=\"Raw Drift\");\n",
    "#ax1.plot(xp, z2(xp), 'b-', label=\"Our Method\");\n",
    "\n",
    "#ax2.plot(drift, 'r', label=\"Raw Drift\");\n",
    "#ax2.plot(adjusted_drift, 'b', label=\"Our Method\");\n",
    "\n",
    "plt.legend(loc=\"upper left\")\n",
    "plt.xlim([0,7500]);\n",
    "plt.ylim([0,3000000]);\n",
    "plt.xlabel(\"Samples\")\n",
    "plt.ylabel(\"Time (us)\")\n",
    "plt.show()\n",
    "\n",
    "# Plot average improvement over no-drift\n",
    "avg_drift = sum(drift) / len(drift);\n",
    "adjusted_drift_avg = sum(adjusted_drift) / len(adjusted_drift);\n",
    "decrease = avg_drift - adjusted_drift_avg;\n",
    "print(\"Drift reduced by %.2f%%\" % ((decrease / avg_drift) * 100))"
   ]
  },
  {
   "cell_type": "code",
   "execution_count": null,
   "metadata": {
    "collapsed": true,
    "deletable": true,
    "editable": true
   },
   "outputs": [],
   "source": []
  },
  {
   "cell_type": "code",
   "execution_count": null,
   "metadata": {
    "collapsed": true,
    "deletable": true,
    "editable": true
   },
   "outputs": [],
   "source": []
  }
 ],
 "metadata": {
  "celltoolbar": "Raw Cell Format",
  "kernelspec": {
   "display_name": "Python 3",
   "language": "python",
   "name": "python3"
  },
  "language_info": {
   "codemirror_mode": {
    "name": "ipython",
    "version": 3
   },
   "file_extension": ".py",
   "mimetype": "text/x-python",
   "name": "python",
   "nbconvert_exporter": "python",
   "pygments_lexer": "ipython3",
   "version": "3.6.0"
  }
 },
 "nbformat": 4,
 "nbformat_minor": 2
}
