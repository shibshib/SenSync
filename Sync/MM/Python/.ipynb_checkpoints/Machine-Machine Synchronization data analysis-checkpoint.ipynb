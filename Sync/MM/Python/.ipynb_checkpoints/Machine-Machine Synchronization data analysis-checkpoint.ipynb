{
 "cells": [
  {
   "cell_type": "markdown",
   "metadata": {},
   "source": [
    "# # Accelerometer/Optical Flow data report"
   ]
  },
  {
   "cell_type": "markdown",
   "metadata": {},
   "source": [
    "## Extract accelerometer and optical flow data"
   ]
  },
  {
   "cell_type": "code",
   "execution_count": 54,
   "metadata": {
    "collapsed": false
   },
   "outputs": [],
   "source": [
    "# Extract accelerometer data and optical flow data\n",
    "# LucasKanade is a custom class\n",
    "import pandas as pd\n",
    "from LucasKanade import LK\n",
    "\n",
    "acc_src = \"Data/1/DCO_accel_COM5_2MHz_1.csv\";\n",
    "video_src = \"C:/Users/Ala/Documents/GitHub/SenSync/Sync/MM/Python/Data/temp/1/1.avi\";\n",
    "video_timing_src = \"C:/Users/Ala/Documents/GitHub/SenSync/Sync/MM/Python/Data/temp/1/timing.csv\"\n",
    "\n",
    "# Extract accelerometer csv\n",
    "accel_columns = ['Timestamp', 'X', 'Y', 'Z'];\n",
    "dco_df = pd.read_csv(acc_src, names=accel_columns);\n",
    "dco = dco_df.as_matrix();\n",
    "\n",
    "# Extract video timings\n",
    "video_columns = ['Timestamp', 'Number'];\n",
    "frame_df = pd.read_csv(acc_src, names=video_columns);\n",
    "frame_timings = frame_df.as_matrix();\n",
    "\n",
    "# Analyze video and grab optical flow (Y-axis)\n",
    "lkanad = LK(video_src);\n",
    "lkanad.run();"
   ]
  },
  {
   "cell_type": "markdown",
   "metadata": {},
   "source": [
    "## High pass filter"
   ]
  },
  {
   "cell_type": "code",
   "execution_count": 55,
   "metadata": {
    "collapsed": true
   },
   "outputs": [],
   "source": [
    "from scipy import signal\n",
    "# Quick define a high pass filter\n",
    "def butter_highpass(cutoff, fs, order=5):\n",
    "    nyq = 0.5 * fs\n",
    "    normal_cutoff = cutoff / nyq\n",
    "    b, a = signal.butter(order, normal_cutoff, btype='high', analog=False)\n",
    "    return b, a\n",
    "\n",
    "def butter_highpass_filter(data, cutoff, fs, order=5):\n",
    "    b, a = butter_highpass(cutoff, fs, order=order)\n",
    "    y = signal.filtfilt(b, a, data)\n",
    "    return y\n",
    "\n",
    "freq = 8 #8 Hz for video, 50 Hz for acc\n",
    "cutoff = 30;"
   ]
  },
  {
   "cell_type": "markdown",
   "metadata": {},
   "source": [
    "## Plot accelerometer vs optical flow"
   ]
  },
  {
   "cell_type": "code",
   "execution_count": 57,
   "metadata": {
    "collapsed": false,
    "scrolled": true
   },
   "outputs": [
    {
     "ename": "IndexError",
     "evalue": "too many indices for array",
     "output_type": "error",
     "traceback": [
      "\u001b[0;31m---------------------------------------------------------------------------\u001b[0m",
      "\u001b[0;31mIndexError\u001b[0m                                Traceback (most recent call last)",
      "\u001b[0;32m<ipython-input-57-bb561a106883>\u001b[0m in \u001b[0;36m<module>\u001b[0;34m()\u001b[0m\n\u001b[1;32m     45\u001b[0m \u001b[1;33m\u001b[0m\u001b[0m\n\u001b[1;32m     46\u001b[0m \u001b[1;31m# Verify drift between accelerometer and optical flow sensor\u001b[0m\u001b[1;33m\u001b[0m\u001b[1;33m\u001b[0m\u001b[0m\n\u001b[0;32m---> 47\u001b[0;31m \u001b[0mframe_timings\u001b[0m \u001b[1;33m=\u001b[0m \u001b[0mframe_timings\u001b[0m\u001b[1;33m[\u001b[0m\u001b[1;33m:\u001b[0m\u001b[1;33m,\u001b[0m\u001b[1;36m0\u001b[0m\u001b[1;33m]\u001b[0m \u001b[1;33m-\u001b[0m \u001b[0mframe_timings\u001b[0m\u001b[1;33m[\u001b[0m\u001b[1;36m0\u001b[0m\u001b[1;33m,\u001b[0m\u001b[1;36m0\u001b[0m\u001b[1;33m]\u001b[0m\u001b[1;33m;\u001b[0m\u001b[1;33m\u001b[0m\u001b[0m\n\u001b[0m\u001b[1;32m     48\u001b[0m \u001b[1;33m\u001b[0m\u001b[0m\n\u001b[1;32m     49\u001b[0m \u001b[0mtiming_interp\u001b[0m \u001b[1;33m=\u001b[0m \u001b[0minterp\u001b[0m\u001b[1;33m.\u001b[0m\u001b[0minterp1d\u001b[0m\u001b[1;33m(\u001b[0m\u001b[0mnp\u001b[0m\u001b[1;33m.\u001b[0m\u001b[0marange\u001b[0m\u001b[1;33m(\u001b[0m\u001b[0mframe_timings\u001b[0m\u001b[1;33m.\u001b[0m\u001b[0msize\u001b[0m\u001b[1;33m)\u001b[0m\u001b[1;33m,\u001b[0m \u001b[0mframe_timings\u001b[0m\u001b[1;33m)\u001b[0m\u001b[1;33m;\u001b[0m\u001b[1;33m\u001b[0m\u001b[0m\n",
      "\u001b[0;31mIndexError\u001b[0m: too many indices for array"
     ]
    }
   ],
   "source": [
    "import numpy as np\n",
    "import scipy.interpolate as interp\n",
    "import matplotlib\n",
    "import matplotlib.pyplot as plt\n",
    "import mpld3\n",
    "mpld3.enable_notebook();\n",
    "\n",
    "# Set default plot size\n",
    "matplotlib.rcParams['figure.figsize'] = (10.0, 8.0)\n",
    "\n",
    "# Accelerometer data\n",
    "# Time\n",
    "atime = dco[:,0];\n",
    "atime = atime - atime[0];\n",
    "\n",
    "# Magnitude\n",
    "mag_dco = np.square(dco[:,1]) + np.square(dco[:,2]) + np.square(dco[:,3]);\n",
    "mag_dco = np.sqrt(mag_dco);\n",
    "afreq = 50;\n",
    "acutoff=15;\n",
    "mag_dco_filtered = butter_highpass_filter(mag_dco, acutoff, afreq);\n",
    "mag_dco_filtered = abs(mag_dco_filtered);\n",
    "\n",
    "# Y axis\n",
    "y_dco = dco[:,2];\n",
    "y_dco_filtered = butter_highpass_filter(y_dco, acutoff, afreq);\n",
    "y_dco_filtered = abs(y_dco_filtered);\n",
    "\n",
    "# Flow data\n",
    "ffreq = 8;    # 8 FPS \n",
    "fcutoff = 3;  \n",
    "\n",
    "flow = np.concatenate(np.asarray(lkanad.flow), axis=0);\n",
    "x_flow = flow[:,0,0];\n",
    "y_flow = flow[:,0,1];\n",
    "\n",
    "frames = np.linspace(0, lkanad.frame_idx);\n",
    "\n",
    "y_interp = interp.interp1d(np.arange(y_flow.size), y_flow);\n",
    "y_compressed = y_interp(np.linspace(0, y_flow.size-1, frames.size));\n",
    "y_compressed = y_compressed - y_compressed[0];\n",
    "y_compressed_filtered = butter_highpass_filter(y_compressed, fcutoff, ffreq);\n",
    "y_compressed_filtered = abs(y_compressed_filtered);\n",
    "\n",
    "\n",
    "# Verify drift between accelerometer and optical flow sensor\n",
    "vtimings = frame_timings[:,0] - frame_timings[0,0];\n",
    "\n",
    "timing_interp = interp.interp1d(np.arange(vtimings.size), vtimings);\n",
    "\n",
    "# Stretch it to match atime\n",
    "frame_timings_solid = timing_interp(np.linspace(0, vtimings.size-1, atime.size));\n",
    "\n",
    "drift = abs(frame_timings_solid - atime);\n",
    "\n",
    "fig, (ax1, ax2, ax3, ax4) = plt.subplots(nrows=4);\n",
    "ax1.plot(atime, mag_dco_filtered, 'g', label=\"Magnitude\");\n",
    "ax1.grid();\n",
    "ax1.set_title(\"MAG Accelerometer\")\n",
    "ax1.legend();\n",
    "ax2.plot(atime, y_dco_filtered, 'r', label=\"Y-axis\");\n",
    "ax2.grid();\n",
    "ax2.set_title(\"Y Accelerometer\");\n",
    "ax2.legend();\n",
    "ax3.plot(frames, y_compressed_filtered, 'b', label=\"Optical Flow\");\n",
    "ax3.grid();\n",
    "ax3.set_title(\"OF\");\n",
    "ax3.legend();\n",
    "ax4.plot(drift, 'm');\n",
    "ax4.grid();\n",
    "plt.show();\n",
    "\n"
   ]
  },
  {
   "cell_type": "markdown",
   "metadata": {},
   "source": [
    "### Regarding Figure in 1.3\n",
    "The graphs above correspond to 5 steps taken while wearing the data collection helmet. The optical flow data is in blue, the Y axis of the accelerometer is in red, and the magnitude of the accelerometer is in green. \n",
    "\n",
    "When looking at optical flow data, the movement of the Y axis away from the center is the most prevalent signal, as it captures the subtle head-bobbing when taking steps, which is also captured by the accelerometer. Further, the figure shows that the magnitude of the accelerometer data (green) is the clearest. \n",
    "\n",
    "It is also clear that there is a significant drift between the camera (16 MHz clock) and the accelerometer data (2 MHz clock) ."
   ]
  },
  {
   "cell_type": "markdown",
   "metadata": {},
   "source": [
    "## Train Classifier for Step recognition and reconstruct events"
   ]
  },
  {
   "cell_type": "code",
   "execution_count": null,
   "metadata": {
    "collapsed": true
   },
   "outputs": [],
   "source": []
  }
 ],
 "metadata": {
  "kernelspec": {
   "display_name": "Python 3",
   "language": "python",
   "name": "python3"
  },
  "language_info": {
   "codemirror_mode": {
    "name": "ipython",
    "version": 3
   },
   "file_extension": ".py",
   "mimetype": "text/x-python",
   "name": "python",
   "nbconvert_exporter": "python",
   "pygments_lexer": "ipython3",
   "version": "3.6.0"
  }
 },
 "nbformat": 4,
 "nbformat_minor": 2
}
