{
 "cells": [
  {
   "cell_type": "markdown",
   "metadata": {},
   "source": [
    "## Read CSV Files"
   ]
  },
  {
   "cell_type": "code",
   "execution_count": null,
   "metadata": {
    "collapsed": true
   },
   "outputs": [],
   "source": [
    "import pandas as pd\n",
    "from collections import namedtuple\n",
    "\n",
    "def toint(x):\n",
    "    return int(x);\n",
    "\n",
    "def tofloat(x):\n",
    "    return float(x);\n",
    "\n",
    "## read crystal- and dco- timestamped data\n",
    "columns = ['Timestamp', 'X', 'Y', 'Z'];\n",
    "\n",
    "# Store data into named tuple\n",
    "LimbData = namedtuple(\"LimbData\", \"Crystal\");\n",
    "converter = {'Timestamp':toint,'X':tofloat, 'Y':tofloat, 'Z':tofloat}\n",
    "# Get left pocket (LP) data\n",
    "crystal_df_rp = pd.read_csv('Data/ACC_COM10.csv', names=columns, index_col=False, converters=converter);\n",
    "crystal_rp = crystal_df_rp.as_matrix();\n",
    "\n",
    "RP = LimbData(crystal_rp);\n",
    "\n",
    "# Get right pocket (RP) data\n",
    "crystal_df_lp = pd.read_csv('Data/ACC_COM7.csv', names=columns, index_col=False, converters=converter);\n",
    "crystal_lp = crystal_df_lp.as_matrix();\n",
    "\n",
    "LP = LimbData(crystal_lp);"
   ]
  },
  {
   "cell_type": "markdown",
   "metadata": {},
   "source": [
    "## Filters\n"
   ]
  },
  {
   "cell_type": "code",
   "execution_count": 1,
   "metadata": {
    "collapsed": true
   },
   "outputs": [],
   "source": [
    "from scipy import signal\n",
    "# Quick define a high pass filter\n",
    "def butter_highpass(cutoff, fs, order=5):\n",
    "    nyq = 0.5 * fs\n",
    "    normal_cutoff = cutoff / nyq\n",
    "    b, a = signal.butter(order, normal_cutoff, btype='high', analog=False)\n",
    "    return b, a\n",
    "\n",
    "def butter_highpass_filter(data, cutoff, fs, order=5):\n",
    "    b, a = butter_highpass(cutoff, fs, order=order)\n",
    "    y = signal.filtfilt(b, a, data)\n",
    "    return y\n",
    "\n",
    "def butter_lowpass(cutoff, fs, order=5):\n",
    "    nyq = 0.5 * fs\n",
    "    normal_cutoff = cutoff / nyq\n",
    "    b, a = signal.butter(order, normal_cutoff, btype='low', analog=False)\n",
    "    return b, a\n",
    "\n",
    "def butter_lowpass_filter(data, cutoff, fs, order=5):\n",
    "    b, a = butter_lowpass(cutoff, fs, order=order)\n",
    "    y = signal.filtfilt(b, a, data)\n",
    "    return y\n"
   ]
  },
  {
   "cell_type": "markdown",
   "metadata": {},
   "source": [
    "## Plt Data"
   ]
  },
  {
   "cell_type": "code",
   "execution_count": 2,
   "metadata": {
    "collapsed": false
   },
   "outputs": [
    {
     "ename": "NameError",
     "evalue": "name 'RP' is not defined",
     "output_type": "error",
     "traceback": [
      "\u001b[0;31m---------------------------------------------------------------------------\u001b[0m",
      "\u001b[0;31mNameError\u001b[0m                                 Traceback (most recent call last)",
      "\u001b[0;32m<ipython-input-2-019f6daa49bb>\u001b[0m in \u001b[0;36m<module>\u001b[0;34m()\u001b[0m\n\u001b[1;32m     13\u001b[0m \u001b[1;33m\u001b[0m\u001b[0m\n\u001b[1;32m     14\u001b[0m \u001b[1;31m# Get magnitude of LP and RP\u001b[0m\u001b[1;33m\u001b[0m\u001b[1;33m\u001b[0m\u001b[0m\n\u001b[0;32m---> 15\u001b[0;31m \u001b[0mRPMag\u001b[0m \u001b[1;33m=\u001b[0m \u001b[0mnp\u001b[0m\u001b[1;33m.\u001b[0m\u001b[0msquare\u001b[0m\u001b[1;33m(\u001b[0m\u001b[0mRP\u001b[0m\u001b[1;33m.\u001b[0m\u001b[0mCrystal\u001b[0m\u001b[1;33m[\u001b[0m\u001b[1;33m:\u001b[0m\u001b[1;33m,\u001b[0m\u001b[1;36m1\u001b[0m\u001b[1;33m]\u001b[0m\u001b[1;33m)\u001b[0m \u001b[1;33m+\u001b[0m \u001b[0mnp\u001b[0m\u001b[1;33m.\u001b[0m\u001b[0msquare\u001b[0m\u001b[1;33m(\u001b[0m\u001b[0mRP\u001b[0m\u001b[1;33m.\u001b[0m\u001b[0mCrystal\u001b[0m\u001b[1;33m[\u001b[0m\u001b[1;33m:\u001b[0m\u001b[1;33m,\u001b[0m\u001b[1;36m2\u001b[0m\u001b[1;33m]\u001b[0m\u001b[1;33m)\u001b[0m \u001b[1;33m+\u001b[0m \u001b[0mnp\u001b[0m\u001b[1;33m.\u001b[0m\u001b[0msquare\u001b[0m\u001b[1;33m(\u001b[0m\u001b[0mRP\u001b[0m\u001b[1;33m.\u001b[0m\u001b[0mCrystal\u001b[0m\u001b[1;33m[\u001b[0m\u001b[1;33m:\u001b[0m\u001b[1;33m,\u001b[0m\u001b[1;36m3\u001b[0m\u001b[1;33m]\u001b[0m\u001b[1;33m)\u001b[0m\u001b[1;33m;\u001b[0m\u001b[1;33m\u001b[0m\u001b[0m\n\u001b[0m\u001b[1;32m     16\u001b[0m \u001b[0mRPMag\u001b[0m \u001b[1;33m=\u001b[0m \u001b[0mnp\u001b[0m\u001b[1;33m.\u001b[0m\u001b[0msqrt\u001b[0m\u001b[1;33m(\u001b[0m\u001b[0mRPMag\u001b[0m\u001b[1;33m)\u001b[0m\u001b[1;33m;\u001b[0m\u001b[1;33m\u001b[0m\u001b[0m\n\u001b[1;32m     17\u001b[0m \u001b[1;31m#RPMag = abs(butter_highpass_filter(RPMag, cutoff, freq));\u001b[0m\u001b[1;33m\u001b[0m\u001b[1;33m\u001b[0m\u001b[0m\n",
      "\u001b[0;31mNameError\u001b[0m: name 'RP' is not defined"
     ]
    }
   ],
   "source": [
    "import matplotlib\n",
    "import matplotlib.pyplot as plt\n",
    "import numpy as np\n",
    "import scipy.interpolate as interp\n",
    "import mpld3\n",
    "mpld3.enable_notebook();\n",
    "\n",
    "# Set default plot size\n",
    "matplotlib.rcParams['figure.figsize'] = (12.0, 10.0)\n",
    "\n",
    "freq = 100\n",
    "cutoff = 10\n",
    "\n",
    "# Get magnitude of LP and RP\n",
    "RPMag = np.square(RP.Crystal[:,1]) + np.square(RP.Crystal[:,2]) + np.square(RP.Crystal[:,3]);\n",
    "RPMag = np.sqrt(RPMag);\n",
    "#RPMag = abs(butter_highpass_filter(RPMag, cutoff, freq));\n",
    "rollby = 190;\n",
    "RPMag = np.roll(RPMag, rollby);\n",
    "\n",
    "LPMag = np.square(LP.Crystal[:,1]) + np.square(LP.Crystal[:,2]) + np.square(LP.Crystal[:,3]);\n",
    "LPMag = np.sqrt(LPMag);\n",
    "#LPMag = abs(butter_highpass_filter(LPMag, cutoff, freq));\n",
    "\n",
    "fig, (ax1, ax2) = plt.subplots(nrows=2);\n",
    "frame = plt.gca()\n",
    "\n",
    "\n",
    "A1 = [2800, 3400];\n",
    "A2 = [5300, 6100];\n",
    "ax1.plot(range(rollby+A1[0],rollby+A1[1],1), RPMag[rollby+A1[0]:rollby+A1[1]], 'r');\n",
    "ax1.plot(range(rollby+A2[0],rollby+A2[1],1), RPMag[rollby+A2[0]:rollby+A2[1]], 'r');\n",
    "ax1.set_xlim([0,6800])\n",
    "ax1.plot(RPMag, 'c', label=\"Right Leg\");\n",
    "\n",
    "ax1.legend();\n",
    "ax1.set_xlabel(\"Samples\")\n",
    "ax1.set_ylabel(\"Magnitude\");\n",
    "ax1.grid();\n",
    "\n",
    "ax2.plot(range(rollby+A1[0],rollby+A1[1],1), LPMag[rollby+A1[0]:rollby+A1[1]], 'r');\n",
    "ax2.plot(range(rollby+A2[0],rollby+A2[1],1), LPMag[rollby+A2[0]:rollby+A2[1]], 'r');\n",
    "ax2.plot(LPMag, 'b', label=\"Left Leg\");\n",
    "ax2.set_xlim([0,6800])\n",
    "ax2.legend();\n",
    "ax2.set_xlabel(\"Samples\")\n",
    "ax2.set_ylabel(\"Magnitude\");\n",
    "ax2.grid();\n",
    "plt.show();"
   ]
  },
  {
   "cell_type": "markdown",
   "metadata": {},
   "source": [
    "## Check out some cross correlations"
   ]
  },
  {
   "cell_type": "code",
   "execution_count": null,
   "metadata": {
    "collapsed": true
   },
   "outputs": [],
   "source": [
    "from scipy.signal import correlate\n",
    "from scipy.interpolate import interp1d\n",
    "import scipy.spatial.distance as ssd\n",
    "import math\n",
    "\n",
    "def activity_integrity(ac1, ac2, window_size, dampener):\n",
    "    ac_range = max(len(ac1), len(ac2));\n",
    "    amplifier = min(total_energy(ac1), total_energy(ac2))\n",
    "    rcs = [];\n",
    "    div = 1;\n",
    "    # delta time array to match xcorr\n",
    "    for i in range(0, ac_range-window_size, window_size):\n",
    "        #xcorr = correlation(ac1[i:i+window_size],ac2[i:i+window_size]);\n",
    "        #rcs.append(math.pow((xcorr/amplifier),(1 / dampener)));\n",
    "        #rcs.append(xcorr);\n",
    "        ED = abs(total_energy(ac1[i:i+window_size])-total_energy(ac2[i:i+window_size]))/amplifier;\n",
    "        rcs.append(ED);\n",
    "    return np.mean(rcs)\n",
    "\n",
    "\n",
    "def correlation(ac1, ac2):\n",
    "    ac1x = np.arange(0, len(ac1));\n",
    "    ac2x = np.arange(0, len(ac2));\n",
    "    \n",
    "    f = interp1d(ac1x, ac1)\n",
    "    f2 = interp1d(ac2x, ac2)\n",
    "    \n",
    "    points = max(len(ac1), len(ac2));\n",
    "\n",
    "    xnew = np.linspace ( min(ac1), max(ac1), num = points) \n",
    "    xnew2 = np.linspace ( min(ac2), max(ac2), num = points)\n",
    "    \n",
    "    ynew = f(xnew) \n",
    "    ynew2 = f2(xnew2) \n",
    "    \n",
    "    return ssd.correlation(ynew, ynew2)\n",
    "\n",
    "def total_energy(sig):\n",
    "    F = np.fft.fft(sig);\n",
    "    return np.sum(F*np.conj(F));\n",
    "\n",
    "A1 = [200, 1000];\n",
    "A2 = [1000, 1800];\n",
    "A3 = [2200, 4000];\n",
    "A4 = [4000, 4800];\n",
    "A5 = [4900, 6600];\n",
    "\n",
    "activityRP = RPMag[A5[0]:A5[1]];\n",
    "activityLP = LPMag[A5[0]:A5[1]];\n",
    "\n",
    "# Compute cross correlation between every two events found\n",
    "# NOTE: The number of events on node i and node j MUST be the same\n",
    "\n",
    "ac1mag = activityRP;\n",
    "ac2mag = activityLP;\n",
    "\n",
    "# regularize datasets by subtracting mean and dividing by s.d.\n",
    "ac1mag -= activityRP.mean(); ac1mag /= activityRP.std();\n",
    "ac2mag -= activityLP.mean(); ac2mag /= activityLP.std();\n",
    "\n",
    "#print(correlation(ac1mag, ac2mag))\n",
    "print(\"Average ED: \", activity_integrity(ac1mag, ac2mag, 100, 2));\n",
    "#print(\"Energy 1: \", total_energy(ac1mag));\n",
    "#print(\"Energy 2: \", total_energy(ac2mag));\n",
    "#print(\"Energy Difference: \", abs(total_energy(ac1mag) - total_energy(ac2mag)));\n",
    "\n",
    "fig, (ax1, ax2) = plt.subplots(nrows=2);\n",
    "\n",
    "ax1.plot(abs(ac1mag), 'c', label=\"Right Leg\");\n",
    "ax1.legend();\n",
    "#ax1.set_ylim([0, 2])\n",
    "ax1.set_xlabel(\"Time (uS)\")\n",
    "ax1.set_ylabel(\"Magnitude\");\n",
    "ax1.grid();\n",
    "\n",
    "ax2.plot(abs(ac2mag), 'b', label=\"Left Leg\");\n",
    "ax2.legend();\n",
    "#ax2.set_ylim([0, 2])\n",
    "ax2.set_xlabel(\"Time (uS)\")\n",
    "ax2.set_ylabel(\"Magnitude\");\n",
    "ax2.grid();\n",
    "plt.show();\n",
    "\n",
    "# Find X-Correlation of the anharmonic signals\n",
    "#xcorr = correlate(ac1mag,ac2mag);\n",
    "\n",
    "# delta time array to match xcorr\n",
    "#t = np.asarray(time1);\n",
    "#dt = np.linspace(-t[-1], t[-1], 2*nsamples-1)\n",
    "#recovered_sample_shift = dt[xcorr.argmax()]\n",
    "\n",
    "#dt = np.arange(1-nsamples, nsamples);\n",
    "#recovered_sample_shift = dt[xcorr.argmax()];\n",
    "#offset = abs(recovered_sample_shift * SRATE);\n",
    "\n",
    "#print (\"Recovered offset: \", recovered_sample_shift, \" samples, or \" , offset, \" microseconds for 100Hz sample rate\");\n"
   ]
  }
 ],
 "metadata": {
  "kernelspec": {
   "display_name": "Python 3",
   "language": "python",
   "name": "python3"
  },
  "language_info": {
   "codemirror_mode": {
    "name": "ipython",
    "version": 3
   },
   "file_extension": ".py",
   "mimetype": "text/x-python",
   "name": "python",
   "nbconvert_exporter": "python",
   "pygments_lexer": "ipython3",
   "version": "3.6.0"
  }
 },
 "nbformat": 4,
 "nbformat_minor": 2
}
